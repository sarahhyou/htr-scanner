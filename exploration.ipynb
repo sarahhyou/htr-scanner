{
 "cells": [
  {
   "cell_type": "code",
   "execution_count": 1,
   "metadata": {},
   "outputs": [
    {
     "name": "stderr",
     "output_type": "stream",
     "text": [
      "c:\\Users\\wwwia\\Documents\\Projects\\htr-scanner\\.venv\\Lib\\site-packages\\tqdm\\auto.py:21: TqdmWarning: IProgress not found. Please update jupyter and ipywidgets. See https://ipywidgets.readthedocs.io/en/stable/user_install.html\n",
      "  from .autonotebook import tqdm as notebook_tqdm\n"
     ]
    }
   ],
   "source": [
    "#import libraries here\n",
    "# Base\n",
    "import numpy as np\n",
    "import PIL\n",
    "import os\n",
    "from datetime import datetime\n",
    "import pandas as pd\n",
    "\n",
    "\n",
    "# Scikit-learn\n",
    "from sklearn.model_selection import train_test_split\n",
    "\n",
    "# Display\n",
    "from IPython.display import Image\n",
    "\n",
    "# Torch\n",
    "import torch\n",
    "from torchvision import transforms\n",
    "from torchvision.io import read_image\n",
    "from torch.utils.data import DataLoader, random_split, Dataset\n",
    "\n",
    "# Other utility functions\n",
    "from accelerate import Accelerator"
   ]
  },
  {
   "cell_type": "code",
   "execution_count": null,
   "metadata": {},
   "outputs": [],
   "source": [
    "#!unzip -qq data/archive.zip -d dataset/"
   ]
  },
  {
   "cell_type": "code",
   "execution_count": null,
   "metadata": {},
   "outputs": [],
   "source": [
    "Image(filename=os.path.expandvars('dataset\\data\\data\\input_1_1_12.jpg'))"
   ]
  },
  {
   "cell_type": "code",
   "execution_count": null,
   "metadata": {},
   "outputs": [],
   "source": [
    "# GAS GAS GAS \n",
    "accelerator = Accelerator(mixed_precision=\"fp16\")\n",
    "# Check the device\n",
    "device = accelerator.device\n",
    "\n",
    "print(f\"The default device is set to {torch.cuda.get_device_name(device)}\")"
   ]
  },
  {
   "cell_type": "code",
   "execution_count": null,
   "metadata": {},
   "outputs": [],
   "source": [
    "#data exploration\n",
    "data = pd.read_csv('dataset\\chinese_mnist.csv', delimiter=',')\n",
    "data.dataframeName = 'chinese_mnist_df.csv'\n",
    "\n",
    "data.loc[(data['suite_id'] == 100) & (data['sample_id'] == 10) & (data['code'] == 10)]"
   ]
  },
  {
   "cell_type": "code",
   "execution_count": 2,
   "metadata": {},
   "outputs": [],
   "source": [
    "# Create custom image dataset (so the images are labeled):\n",
    "class HRDigitDataSet(Dataset):\n",
    "    def __init__(self, csv_file, img_dir, transform=None, target_transform=None, seed=69):\n",
    "        df = pd.read_csv(csv_file)\n",
    "        df = df.sample(n = len(df), random_state=seed)\n",
    "        self.labels_df = df.reset_index(drop=True)\n",
    "        self.img_dir = img_dir        \n",
    "        self.transform = transform\n",
    "        self.target_transform = target_transform\n",
    "\n",
    "    def __len__(self):\n",
    "        return self.labels_df.shape[0]\n",
    "    \n",
    "    def __getitem__(self, index):\n",
    "        # get image file path using information in the csv file\n",
    "        image_name = os.path.join(self.img_dir, \n",
    "        f\"input_{self.labels_df.iloc[index, 0]}_{self.labels_df.iloc[index, 1]}_{self.labels_df.iloc[index, 2]}.jpg\")\n",
    "        # get image tensor using the image file path\n",
    "        image = read_image(image_name)  # read the image as a grayscale matrix \n",
    "        # get image label from the csv file\n",
    "        label = self.labels_df.iloc[index, 3]\n",
    "        if self.transform:\n",
    "            image = self.transform(image)\n",
    "        if self.target_transform:\n",
    "            label = self.target_transform(label)\n",
    "        image = torch.as_tensor(image, dtype=torch.float32) # convert matrix into Pytorch tensor\n",
    "        label = torch.as_tensor(label, dtype=torch.int64) # convert label into Pytorch tensor\n",
    "        return image, label"
   ]
  },
  {
   "cell_type": "code",
   "execution_count": 3,
   "metadata": {},
   "outputs": [
    {
     "data": {
      "text/plain": [
       "(tensor([[[0., 0., 0.,  ..., 0., 0., 0.],\n",
       "          [0., 0., 0.,  ..., 0., 0., 0.],\n",
       "          [0., 0., 0.,  ..., 0., 0., 0.],\n",
       "          ...,\n",
       "          [0., 0., 0.,  ..., 0., 0., 0.],\n",
       "          [0., 0., 0.,  ..., 0., 0., 0.],\n",
       "          [0., 0., 0.,  ..., 0., 0., 0.]]]),\n",
       " tensor(0))"
      ]
     },
     "execution_count": 3,
     "metadata": {},
     "output_type": "execute_result"
    }
   ],
   "source": [
    "#Test to see if dataset object works\n",
    "dataset = HRDigitDataSet(csv_file='dataset\\chinese_mnist.csv',img_dir='dataset\\data\\data')\n",
    "dataset.__getitem__(2)"
   ]
  },
  {
   "cell_type": "code",
   "execution_count": null,
   "metadata": {},
   "outputs": [],
   "source": [
    "# Split dataset into training, validation and testing portions\n",
    "# 60% train / 25% val / 25% test \n",
    "def loadDataset(dataset, batch_size=32, train_split = 0.6, val_split = 0.25, test_split = 0.25, random_seed=69):\n",
    "    # ensure splits add up to 1:\n",
    "    assert train_split + val_split + test_split == 1.0, \"Splits must add up to 1.0\"\n",
    "    # Determine the split sizes\n",
    "    total_size = len(dataset)\n",
    "    train_size = int(total_size * train_split)\n",
    "    val_size = int(total_size * val_split)\n",
    "    test_size = int(total_size * test_split)\n",
    "    # This ensures reproducibility\n",
    "    torch.manual_seed(random_seed)\n",
    "    # Split the dataset and create loaders\n",
    "    train_dataset, val_dataset, test_dataset = random_split(dataset, [train_size, val_size, test_size])\n",
    "    train_loader = DataLoader(train_dataset, batch_size=batch_size, shuffle= True)\n",
    "    val_loader = DataLoader(val_dataset, batch_size=batch_size, shuffle= False)\n",
    "    test_loader = DataLoader(test_dataset, batch_size=batch_size, shuffle=False)\n",
    "    return train_loader, val_loader, test_loader "
   ]
  }
 ],
 "metadata": {
  "kernelspec": {
   "display_name": ".venv",
   "language": "python",
   "name": "python3"
  },
  "language_info": {
   "codemirror_mode": {
    "name": "ipython",
    "version": 3
   },
   "file_extension": ".py",
   "mimetype": "text/x-python",
   "name": "python",
   "nbconvert_exporter": "python",
   "pygments_lexer": "ipython3",
   "version": "3.11.9"
  }
 },
 "nbformat": 4,
 "nbformat_minor": 2
}
